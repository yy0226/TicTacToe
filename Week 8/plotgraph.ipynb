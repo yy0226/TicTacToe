{
 "cells": [
  {
   "cell_type": "code",
   "execution_count": 6,
   "id": "24e4bed6",
   "metadata": {},
   "outputs": [],
   "source": [
    "import pandas as pd"
   ]
  },
  {
   "cell_type": "code",
   "execution_count": 9,
   "id": "fa658f7f",
   "metadata": {},
   "outputs": [],
   "source": [
    "games_database = pd.read_csv('database_m1129.csv')"
   ]
  },
  {
   "cell_type": "code",
   "execution_count": 10,
   "id": "4d1f9174",
   "metadata": {},
   "outputs": [
    {
     "name": "stdout",
     "output_type": "stream",
     "text": [
      "    Game ID Player Winner Result\n",
      "0         0  Alice  Alice    Win\n",
      "1         0    Ben  Alice   Loss\n",
      "2         1  Alice    Ben   Loss\n",
      "3         1    Ben    Ben    Win\n",
      "4         2  Alice    Ben   Loss\n",
      "5         2    Ben    Ben    Win\n",
      "6         3   Kate   Kate    WIn\n",
      "7         3    Ben   Kate   Loss\n",
      "8         4  Alice    Ben   Loss\n",
      "9         4    Ben    Ben    Win\n",
      "10        5  Alice    Ben   Loss\n",
      "11        5    Ben    Ben    Win\n",
      "12        6  Alice  Alice    Win\n",
      "13        6    Ben  Alice   Loss\n",
      "14        7   Kate   Kate    Win\n",
      "15        7    Ben   Kate    WIn\n",
      "16        8  Alice  Alice    Win\n",
      "17        8    Ben  Alice   Loss\n",
      "18        9   Kate   Kate    Win\n",
      "19        9    Ben   Kate   Loss\n"
     ]
    }
   ],
   "source": [
    "print(games_database)"
   ]
  },
  {
   "cell_type": "markdown",
   "id": "bf66bb52",
   "metadata": {},
   "source": [
    "# Count the winner"
   ]
  },
  {
   "cell_type": "code",
   "execution_count": 76,
   "id": "2b60a457",
   "metadata": {},
   "outputs": [
    {
     "data": {
      "text/plain": [
       "<AxesSubplot:>"
      ]
     },
     "execution_count": 76,
     "metadata": {},
     "output_type": "execute_result"
    },
    {
     "data": {
      "image/png": "[encoded data removed]",
      "text/plain": [
       "<Figure size 432x288 with 1 Axes>"
      ]
     },
     "metadata": {
      "needs_background": "light"
     },
     "output_type": "display_data"
    }
   ],
   "source": [
    "games_database['Winner'].value_counts().plot(kind='bar', color = 'yellowgreen')"
   ]
  },
  {
   "cell_type": "code",
   "execution_count": 12,
   "id": "969d0f11",
   "metadata": {},
   "outputs": [],
   "source": [
    "#print(games_database.iloc[:, 2:])"
   ]
  },
  {
   "cell_type": "markdown",
   "id": "e27025a9",
   "metadata": {},
   "source": [
    "# Count the number of appearances"
   ]
  },
  {
   "cell_type": "code",
   "execution_count": 77,
   "id": "692efd92",
   "metadata": {},
   "outputs": [
    {
     "data": {
      "text/plain": [
       "<AxesSubplot:>"
      ]
     },
     "execution_count": 77,
     "metadata": {},
     "output_type": "execute_result"
    },
    {
     "data": {
      "image/png": "[encoded data removed]",
      "text/plain": [
       "<Figure size 432x288 with 1 Axes>"
      ]
     },
     "metadata": {
      "needs_background": "light"
     },
     "output_type": "display_data"
    }
   ],
   "source": [
    "games_database['Player'].value_counts().plot(kind='bar', color = 'deeppink')\n",
    "\n"
   ]
  },
  {
   "cell_type": "code",
   "execution_count": 69,
   "id": "ffb62c1b",
   "metadata": {
    "scrolled": true
   },
   "outputs": [
    {
     "data": {
      "text/html": [
       "<div>\n",
       "<style scoped>\n",
       "    .dataframe tbody tr th:only-of-type {\n",
       "        vertical-align: middle;\n",
       "    }\n",
       "\n",
       "    .dataframe tbody tr th {\n",
       "        vertical-align: top;\n",
       "    }\n",
       "\n",
       "    .dataframe thead th {\n",
       "        text-align: right;\n",
       "    }\n",
       "</style>\n",
       "<table border=\"1\" class=\"dataframe\">\n",
       "  <thead>\n",
       "    <tr style=\"text-align: right;\">\n",
       "      <th></th>\n",
       "      <th>Game ID</th>\n",
       "      <th>Winner</th>\n",
       "      <th>Result</th>\n",
       "    </tr>\n",
       "    <tr>\n",
       "      <th>Player</th>\n",
       "      <th></th>\n",
       "      <th></th>\n",
       "      <th></th>\n",
       "    </tr>\n",
       "  </thead>\n",
       "  <tbody>\n",
       "    <tr>\n",
       "      <th>Alice</th>\n",
       "      <td>7</td>\n",
       "      <td>7</td>\n",
       "      <td>7</td>\n",
       "    </tr>\n",
       "    <tr>\n",
       "      <th>Ben</th>\n",
       "      <td>10</td>\n",
       "      <td>10</td>\n",
       "      <td>10</td>\n",
       "    </tr>\n",
       "    <tr>\n",
       "      <th>Kate</th>\n",
       "      <td>3</td>\n",
       "      <td>3</td>\n",
       "      <td>3</td>\n",
       "    </tr>\n",
       "  </tbody>\n",
       "</table>\n",
       "</div>"
      ],
      "text/plain": [
       "        Game ID  Winner  Result\n",
       "Player                         \n",
       "Alice         7       7       7\n",
       "Ben          10      10      10\n",
       "Kate          3       3       3"
      ]
     },
     "execution_count": 69,
     "metadata": {},
     "output_type": "execute_result"
    }
   ],
   "source": [
    "#games_database.groupby(by=['Player']).count()"
   ]
  },
  {
   "cell_type": "code",
   "execution_count": null,
   "id": "7c3904a5",
   "metadata": {},
   "outputs": [],
   "source": []
  },
  {
   "cell_type": "markdown",
   "id": "1992a82b",
   "metadata": {},
   "source": [
    "# Count the possibility to win"
   ]
  },
  {
   "cell_type": "markdown",
   "id": "fe8e8a46",
   "metadata": {},
   "source": [
    "### Number of victories of each person / the total game counts"
   ]
  },
  {
   "cell_type": "code",
   "execution_count": 57,
   "id": "967dfd08",
   "metadata": {},
   "outputs": [
    {
     "data": {
      "text/html": [
       "<div>\n",
       "<style scoped>\n",
       "    .dataframe tbody tr th:only-of-type {\n",
       "        vertical-align: middle;\n",
       "    }\n",
       "\n",
       "    .dataframe tbody tr th {\n",
       "        vertical-align: top;\n",
       "    }\n",
       "\n",
       "    .dataframe thead th {\n",
       "        text-align: right;\n",
       "    }\n",
       "</style>\n",
       "<table border=\"1\" class=\"dataframe\">\n",
       "  <thead>\n",
       "    <tr style=\"text-align: right;\">\n",
       "      <th></th>\n",
       "      <th>Game ID</th>\n",
       "      <th>Player</th>\n",
       "      <th>Winner</th>\n",
       "      <th>Result</th>\n",
       "    </tr>\n",
       "  </thead>\n",
       "  <tbody>\n",
       "    <tr>\n",
       "      <th>0</th>\n",
       "      <td>0</td>\n",
       "      <td>Alice</td>\n",
       "      <td>Alice</td>\n",
       "      <td>Win</td>\n",
       "    </tr>\n",
       "    <tr>\n",
       "      <th>1</th>\n",
       "      <td>0</td>\n",
       "      <td>Ben</td>\n",
       "      <td>Alice</td>\n",
       "      <td>Loss</td>\n",
       "    </tr>\n",
       "    <tr>\n",
       "      <th>2</th>\n",
       "      <td>1</td>\n",
       "      <td>Alice</td>\n",
       "      <td>Ben</td>\n",
       "      <td>Loss</td>\n",
       "    </tr>\n",
       "    <tr>\n",
       "      <th>3</th>\n",
       "      <td>1</td>\n",
       "      <td>Ben</td>\n",
       "      <td>Ben</td>\n",
       "      <td>Win</td>\n",
       "    </tr>\n",
       "    <tr>\n",
       "      <th>4</th>\n",
       "      <td>2</td>\n",
       "      <td>Alice</td>\n",
       "      <td>Ben</td>\n",
       "      <td>Loss</td>\n",
       "    </tr>\n",
       "    <tr>\n",
       "      <th>5</th>\n",
       "      <td>2</td>\n",
       "      <td>Ben</td>\n",
       "      <td>Ben</td>\n",
       "      <td>Win</td>\n",
       "    </tr>\n",
       "    <tr>\n",
       "      <th>6</th>\n",
       "      <td>3</td>\n",
       "      <td>Kate</td>\n",
       "      <td>Kate</td>\n",
       "      <td>WIn</td>\n",
       "    </tr>\n",
       "    <tr>\n",
       "      <th>7</th>\n",
       "      <td>3</td>\n",
       "      <td>Ben</td>\n",
       "      <td>Kate</td>\n",
       "      <td>Loss</td>\n",
       "    </tr>\n",
       "    <tr>\n",
       "      <th>8</th>\n",
       "      <td>4</td>\n",
       "      <td>Alice</td>\n",
       "      <td>Ben</td>\n",
       "      <td>Loss</td>\n",
       "    </tr>\n",
       "    <tr>\n",
       "      <th>9</th>\n",
       "      <td>4</td>\n",
       "      <td>Ben</td>\n",
       "      <td>Ben</td>\n",
       "      <td>Win</td>\n",
       "    </tr>\n",
       "    <tr>\n",
       "      <th>10</th>\n",
       "      <td>5</td>\n",
       "      <td>Alice</td>\n",
       "      <td>Ben</td>\n",
       "      <td>Loss</td>\n",
       "    </tr>\n",
       "    <tr>\n",
       "      <th>11</th>\n",
       "      <td>5</td>\n",
       "      <td>Ben</td>\n",
       "      <td>Ben</td>\n",
       "      <td>Win</td>\n",
       "    </tr>\n",
       "    <tr>\n",
       "      <th>12</th>\n",
       "      <td>6</td>\n",
       "      <td>Alice</td>\n",
       "      <td>Alice</td>\n",
       "      <td>Win</td>\n",
       "    </tr>\n",
       "    <tr>\n",
       "      <th>13</th>\n",
       "      <td>6</td>\n",
       "      <td>Ben</td>\n",
       "      <td>Alice</td>\n",
       "      <td>Loss</td>\n",
       "    </tr>\n",
       "    <tr>\n",
       "      <th>14</th>\n",
       "      <td>7</td>\n",
       "      <td>Kate</td>\n",
       "      <td>Kate</td>\n",
       "      <td>Win</td>\n",
       "    </tr>\n",
       "    <tr>\n",
       "      <th>15</th>\n",
       "      <td>7</td>\n",
       "      <td>Ben</td>\n",
       "      <td>Kate</td>\n",
       "      <td>WIn</td>\n",
       "    </tr>\n",
       "    <tr>\n",
       "      <th>16</th>\n",
       "      <td>8</td>\n",
       "      <td>Alice</td>\n",
       "      <td>Alice</td>\n",
       "      <td>Win</td>\n",
       "    </tr>\n",
       "    <tr>\n",
       "      <th>17</th>\n",
       "      <td>8</td>\n",
       "      <td>Ben</td>\n",
       "      <td>Alice</td>\n",
       "      <td>Loss</td>\n",
       "    </tr>\n",
       "    <tr>\n",
       "      <th>18</th>\n",
       "      <td>9</td>\n",
       "      <td>Kate</td>\n",
       "      <td>Kate</td>\n",
       "      <td>Win</td>\n",
       "    </tr>\n",
       "    <tr>\n",
       "      <th>19</th>\n",
       "      <td>9</td>\n",
       "      <td>Ben</td>\n",
       "      <td>Kate</td>\n",
       "      <td>Loss</td>\n",
       "    </tr>\n",
       "  </tbody>\n",
       "</table>\n",
       "</div>"
      ],
      "text/plain": [
       "    Game ID Player Winner Result\n",
       "0         0  Alice  Alice    Win\n",
       "1         0    Ben  Alice   Loss\n",
       "2         1  Alice    Ben   Loss\n",
       "3         1    Ben    Ben    Win\n",
       "4         2  Alice    Ben   Loss\n",
       "5         2    Ben    Ben    Win\n",
       "6         3   Kate   Kate    WIn\n",
       "7         3    Ben   Kate   Loss\n",
       "8         4  Alice    Ben   Loss\n",
       "9         4    Ben    Ben    Win\n",
       "10        5  Alice    Ben   Loss\n",
       "11        5    Ben    Ben    Win\n",
       "12        6  Alice  Alice    Win\n",
       "13        6    Ben  Alice   Loss\n",
       "14        7   Kate   Kate    Win\n",
       "15        7    Ben   Kate    WIn\n",
       "16        8  Alice  Alice    Win\n",
       "17        8    Ben  Alice   Loss\n",
       "18        9   Kate   Kate    Win\n",
       "19        9    Ben   Kate   Loss"
      ]
     },
     "execution_count": 57,
     "metadata": {},
     "output_type": "execute_result"
    }
   ],
   "source": [
    "games_database"
   ]
  },
  {
   "cell_type": "markdown",
   "id": "34a91dd3",
   "metadata": {},
   "source": [
    "### To filter out those who won"
   ]
  },
  {
   "cell_type": "code",
   "execution_count": 58,
   "id": "5f3b7da1",
   "metadata": {},
   "outputs": [],
   "source": [
    "winnerdf = games_database[games_database['Player'] == games_database['Winner']]"
   ]
  },
  {
   "cell_type": "code",
   "execution_count": 59,
   "id": "716138b4",
   "metadata": {},
   "outputs": [
    {
     "data": {
      "text/html": [
       "<div>\n",
       "<style scoped>\n",
       "    .dataframe tbody tr th:only-of-type {\n",
       "        vertical-align: middle;\n",
       "    }\n",
       "\n",
       "    .dataframe tbody tr th {\n",
       "        vertical-align: top;\n",
       "    }\n",
       "\n",
       "    .dataframe thead th {\n",
       "        text-align: right;\n",
       "    }\n",
       "</style>\n",
       "<table border=\"1\" class=\"dataframe\">\n",
       "  <thead>\n",
       "    <tr style=\"text-align: right;\">\n",
       "      <th></th>\n",
       "      <th>Game ID</th>\n",
       "      <th>Player</th>\n",
       "      <th>Winner</th>\n",
       "      <th>Result</th>\n",
       "    </tr>\n",
       "  </thead>\n",
       "  <tbody>\n",
       "    <tr>\n",
       "      <th>0</th>\n",
       "      <td>0</td>\n",
       "      <td>Alice</td>\n",
       "      <td>Alice</td>\n",
       "      <td>Win</td>\n",
       "    </tr>\n",
       "    <tr>\n",
       "      <th>3</th>\n",
       "      <td>1</td>\n",
       "      <td>Ben</td>\n",
       "      <td>Ben</td>\n",
       "      <td>Win</td>\n",
       "    </tr>\n",
       "    <tr>\n",
       "      <th>5</th>\n",
       "      <td>2</td>\n",
       "      <td>Ben</td>\n",
       "      <td>Ben</td>\n",
       "      <td>Win</td>\n",
       "    </tr>\n",
       "    <tr>\n",
       "      <th>6</th>\n",
       "      <td>3</td>\n",
       "      <td>Kate</td>\n",
       "      <td>Kate</td>\n",
       "      <td>WIn</td>\n",
       "    </tr>\n",
       "    <tr>\n",
       "      <th>9</th>\n",
       "      <td>4</td>\n",
       "      <td>Ben</td>\n",
       "      <td>Ben</td>\n",
       "      <td>Win</td>\n",
       "    </tr>\n",
       "    <tr>\n",
       "      <th>11</th>\n",
       "      <td>5</td>\n",
       "      <td>Ben</td>\n",
       "      <td>Ben</td>\n",
       "      <td>Win</td>\n",
       "    </tr>\n",
       "    <tr>\n",
       "      <th>12</th>\n",
       "      <td>6</td>\n",
       "      <td>Alice</td>\n",
       "      <td>Alice</td>\n",
       "      <td>Win</td>\n",
       "    </tr>\n",
       "    <tr>\n",
       "      <th>14</th>\n",
       "      <td>7</td>\n",
       "      <td>Kate</td>\n",
       "      <td>Kate</td>\n",
       "      <td>Win</td>\n",
       "    </tr>\n",
       "    <tr>\n",
       "      <th>16</th>\n",
       "      <td>8</td>\n",
       "      <td>Alice</td>\n",
       "      <td>Alice</td>\n",
       "      <td>Win</td>\n",
       "    </tr>\n",
       "    <tr>\n",
       "      <th>18</th>\n",
       "      <td>9</td>\n",
       "      <td>Kate</td>\n",
       "      <td>Kate</td>\n",
       "      <td>Win</td>\n",
       "    </tr>\n",
       "  </tbody>\n",
       "</table>\n",
       "</div>"
      ],
      "text/plain": [
       "    Game ID Player Winner Result\n",
       "0         0  Alice  Alice    Win\n",
       "3         1    Ben    Ben    Win\n",
       "5         2    Ben    Ben    Win\n",
       "6         3   Kate   Kate    WIn\n",
       "9         4    Ben    Ben    Win\n",
       "11        5    Ben    Ben    Win\n",
       "12        6  Alice  Alice    Win\n",
       "14        7   Kate   Kate    Win\n",
       "16        8  Alice  Alice    Win\n",
       "18        9   Kate   Kate    Win"
      ]
     },
     "execution_count": 59,
     "metadata": {},
     "output_type": "execute_result"
    }
   ],
   "source": [
    "winnerdf"
   ]
  },
  {
   "cell_type": "markdown",
   "id": "f1856c64",
   "metadata": {},
   "source": [
    "### To calculate the number of game"
   ]
  },
  {
   "cell_type": "code",
   "execution_count": 60,
   "id": "adc2f052",
   "metadata": {},
   "outputs": [],
   "source": [
    "winnerdf = winnerdf.groupby('Winner').count()[['Result']]"
   ]
  },
  {
   "cell_type": "code",
   "execution_count": 61,
   "id": "2a432991",
   "metadata": {},
   "outputs": [
    {
     "data": {
      "text/html": [
       "<div>\n",
       "<style scoped>\n",
       "    .dataframe tbody tr th:only-of-type {\n",
       "        vertical-align: middle;\n",
       "    }\n",
       "\n",
       "    .dataframe tbody tr th {\n",
       "        vertical-align: top;\n",
       "    }\n",
       "\n",
       "    .dataframe thead th {\n",
       "        text-align: right;\n",
       "    }\n",
       "</style>\n",
       "<table border=\"1\" class=\"dataframe\">\n",
       "  <thead>\n",
       "    <tr style=\"text-align: right;\">\n",
       "      <th></th>\n",
       "      <th>Result</th>\n",
       "    </tr>\n",
       "    <tr>\n",
       "      <th>Winner</th>\n",
       "      <th></th>\n",
       "    </tr>\n",
       "  </thead>\n",
       "  <tbody>\n",
       "    <tr>\n",
       "      <th>Alice</th>\n",
       "      <td>3</td>\n",
       "    </tr>\n",
       "    <tr>\n",
       "      <th>Ben</th>\n",
       "      <td>4</td>\n",
       "    </tr>\n",
       "    <tr>\n",
       "      <th>Kate</th>\n",
       "      <td>3</td>\n",
       "    </tr>\n",
       "  </tbody>\n",
       "</table>\n",
       "</div>"
      ],
      "text/plain": [
       "        Result\n",
       "Winner        \n",
       "Alice        3\n",
       "Ben          4\n",
       "Kate         3"
      ]
     },
     "execution_count": 61,
     "metadata": {},
     "output_type": "execute_result"
    }
   ],
   "source": [
    "winnerdf"
   ]
  },
  {
   "cell_type": "code",
   "execution_count": 62,
   "id": "b40fda29",
   "metadata": {},
   "outputs": [],
   "source": [
    "number_of_games = len(games_database['Game ID'].unique())"
   ]
  },
  {
   "cell_type": "code",
   "execution_count": 65,
   "id": "e3ed8095",
   "metadata": {},
   "outputs": [
    {
     "data": {
      "text/plain": [
       "10"
      ]
     },
     "execution_count": 65,
     "metadata": {},
     "output_type": "execute_result"
    }
   ],
   "source": [
    "number_of_games"
   ]
  },
  {
   "cell_type": "code",
   "execution_count": 63,
   "id": "1264c923",
   "metadata": {},
   "outputs": [],
   "source": [
    "winnerdf['Odds of winning'] = (winnerdf['Result']*100//number_of_games)"
   ]
  },
  {
   "cell_type": "code",
   "execution_count": 64,
   "id": "a20e7f22",
   "metadata": {},
   "outputs": [
    {
     "data": {
      "text/plain": [
       "Index(['Alice', 'Ben', 'Kate'], dtype='object', name='Winner')"
      ]
     },
     "execution_count": 64,
     "metadata": {},
     "output_type": "execute_result"
    }
   ],
   "source": [
    "winnerdf.index"
   ]
  },
  {
   "cell_type": "code",
   "execution_count": 66,
   "id": "04557dff",
   "metadata": {},
   "outputs": [
    {
     "data": {
      "text/html": [
       "<div>\n",
       "<style scoped>\n",
       "    .dataframe tbody tr th:only-of-type {\n",
       "        vertical-align: middle;\n",
       "    }\n",
       "\n",
       "    .dataframe tbody tr th {\n",
       "        vertical-align: top;\n",
       "    }\n",
       "\n",
       "    .dataframe thead th {\n",
       "        text-align: right;\n",
       "    }\n",
       "</style>\n",
       "<table border=\"1\" class=\"dataframe\">\n",
       "  <thead>\n",
       "    <tr style=\"text-align: right;\">\n",
       "      <th></th>\n",
       "      <th>Result</th>\n",
       "      <th>Odds of winning</th>\n",
       "    </tr>\n",
       "    <tr>\n",
       "      <th>Winner</th>\n",
       "      <th></th>\n",
       "      <th></th>\n",
       "    </tr>\n",
       "  </thead>\n",
       "  <tbody>\n",
       "    <tr>\n",
       "      <th>Alice</th>\n",
       "      <td>3</td>\n",
       "      <td>30</td>\n",
       "    </tr>\n",
       "    <tr>\n",
       "      <th>Ben</th>\n",
       "      <td>4</td>\n",
       "      <td>40</td>\n",
       "    </tr>\n",
       "    <tr>\n",
       "      <th>Kate</th>\n",
       "      <td>3</td>\n",
       "      <td>30</td>\n",
       "    </tr>\n",
       "  </tbody>\n",
       "</table>\n",
       "</div>"
      ],
      "text/plain": [
       "        Result  Odds of winning\n",
       "Winner                         \n",
       "Alice        3               30\n",
       "Ben          4               40\n",
       "Kate         3               30"
      ]
     },
     "execution_count": 66,
     "metadata": {},
     "output_type": "execute_result"
    }
   ],
   "source": [
    "winnerdf"
   ]
  },
  {
   "cell_type": "code",
   "execution_count": 67,
   "id": "4e78b3fa",
   "metadata": {},
   "outputs": [],
   "source": [
    "import matplotlib.pyplot as plt"
   ]
  },
  {
   "cell_type": "code",
   "execution_count": 71,
   "id": "84d28938",
   "metadata": {},
   "outputs": [
    {
     "data": {
      "image/png": "[encoded data removed]",
      "text/plain": [
       "<Figure size 432x288 with 1 Axes>"
      ]
     },
     "metadata": {},
     "output_type": "display_data"
    }
   ],
   "source": [
    "labels = [str(name) for name in winnerdf.index]\n",
    "colors = ['darksalmon', 'gold', 'lightcoral']\n",
    "\n",
    "plt.pie(winnerdf['Odds of winning'], colors=colors , labels= labels ,autopct='%1.1f%%')\n",
    "\n",
    "plt.show()"
   ]
  },
  {
   "cell_type": "code",
   "execution_count": null,
   "id": "b8728d59",
   "metadata": {},
   "outputs": [],
   "source": []
  }
 ],
 "metadata": {
  "kernelspec": {
   "display_name": "Python 3 (ipykernel)",
   "language": "python",
   "name": "python3"
  },
  "language_info": {
   "codemirror_mode": {
    "name": "ipython",
    "version": 3
   },
   "file_extension": ".py",
   "mimetype": "text/x-python",
   "name": "python",
   "nbconvert_exporter": "python",
   "pygments_lexer": "ipython3",
   "version": "3.9.12"
  }
 },
 "nbformat": 4,
 "nbformat_minor": 5
}
